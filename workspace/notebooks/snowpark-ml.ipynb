{
 "cells": [
  {
   "attachments": {},
   "cell_type": "markdown",
   "id": "300e965e-8990-431c-b597-f726388a7d6c",
   "metadata": {},
   "source": [
    "<img src=\"../img/snowflake-logo.png\"  width=\"200\" height=\"50\">"
   ]
  },
  {
   "attachments": {},
   "cell_type": "markdown",
   "id": "0f283b2a",
   "metadata": {},
   "source": [
    "<img src=\"../img/2560px-NTT-Data-Logo.svg.png\" width=\"150\" height=\"30\"> "
   ]
  },
  {
   "attachments": {},
   "cell_type": "markdown",
   "id": "bb9c1e38-a931-4128-86f6-13f5c7ecae57",
   "metadata": {},
   "source": [
    "\n",
    "# Snowpark Machine Learning Demo"
   ]
  },
  {
   "attachments": {},
   "cell_type": "markdown",
   "id": "a6ed0efe",
   "metadata": {},
   "source": [
    "![Snowflake](../img/pipeline1.png)"
   ]
  },
  {
   "cell_type": "code",
   "execution_count": null,
   "id": "42f98dcf-b75b-49b9-8cd7-00cbb0fb1f01",
   "metadata": {},
   "outputs": [],
   "source": [
    "import snowflake.snowpark\n",
    "from snowflake.snowpark.types import Variant\n",
    "from snowflake.snowpark.session import Session\n",
    "from snowflake.snowpark.functions import sproc, udf, substr, max, min, sum, length, regexp_replace, call_udf, array_construct, col\n",
    "from pandas.plotting import scatter_matrix\n",
    "from matplotlib import pyplot as plt\n",
    "import matplotlib\n",
    "import cachetools\n",
    "import json\n",
    "import io\n",
    "import os\n",
    "import numpy as np\n",
    "%matplotlib inline"
   ]
  },
  {
   "attachments": {},
   "cell_type": "markdown",
   "id": "f59dd98f-69df-422f-94c9-3a4278831212",
   "metadata": {},
   "source": [
    "#### Snowpark session"
   ]
  },
  {
   "cell_type": "code",
   "execution_count": null,
   "id": "0532d1af-5a6d-4b12-a1e7-a72bc4725e47",
   "metadata": {},
   "outputs": [],
   "source": [
    "connection_params = json.load(open('connection_params.json'))\n",
    "session = Session.builder.configs(connection_params).create()\n",
    "session.add_packages('snowflake-snowpark-python', 'scikit-learn', 'pandas', 'numpy', 'joblib', 'cachetools')"
   ]
  },
  {
   "cell_type": "code",
   "execution_count": null,
   "id": "44ea58aa-ddce-4477-8020-c3f62de28d80",
   "metadata": {},
   "outputs": [],
   "source": [
    "#session.close()"
   ]
  },
  {
   "attachments": {},
   "cell_type": "markdown",
   "id": "1f898312-bbb8-45a9-a6e0-4753b164ec5a",
   "metadata": {},
   "source": [
    "#### Checking the connection with the Snowflake environment"
   ]
  },
  {
   "cell_type": "code",
   "execution_count": null,
   "id": "ddd810c7-1b02-4f7b-8250-ab713701852e",
   "metadata": {},
   "outputs": [],
   "source": [
    "print(session.sql(\"select current_warehouse(), current_database(), current_schema()\").collect())"
   ]
  },
  {
   "attachments": {},
   "cell_type": "markdown",
   "id": "4957a8d2",
   "metadata": {},
   "source": [
    "<img src=\"../img/pipeline21.png\"  width=\"900\" height=\"350\">"
   ]
  },
  {
   "attachments": {},
   "cell_type": "markdown",
   "id": "d71b33c7",
   "metadata": {},
   "source": [
    "**Preparation:** \n",
    "- All calculations and tranformations\n",
    "- Feature engineering\n",
    "\n",
    "**Advantages:** \n",
    "- Snowflake as single source of data\n",
    "- External datasets can be easily added as external stages"
   ]
  },
  {
   "attachments": {},
   "cell_type": "markdown",
   "id": "8c6e55c8",
   "metadata": {},
   "source": [
    "#### About the metrics\n",
    "**hospitalCases:** Patients in hospital - Daily numbers of confirmed COVID-19 patients in hospital.\\\n",
    "**newAdmissions:** Daily number of new admissions to hospital of patients with COVID-19. \\\n",
    "Source: https://coronavirus.data.gov.uk/metrics/"
   ]
  },
  {
   "cell_type": "code",
   "execution_count": null,
   "id": "98f969b3",
   "metadata": {},
   "outputs": [],
   "source": [
    "session.read.table(\"RAW_JSON_NHS\").show()\n"
   ]
  },
  {
   "cell_type": "code",
   "execution_count": null,
   "id": "2949886b",
   "metadata": {},
   "outputs": [],
   "source": [
    "df_nhs_covid = session.sql(\"SELECT value:areaCode::STRING as area_code,\" \\\n",
    "                                   \"value:areaName::STRING as area_name,\" \\\n",
    "                                   \"value:date::DATE as day_date,\" \\\n",
    "                                   \"value:hospitalCases::INT as num_hospital_cases,\" \\\n",
    "                                   \"value:newAdmissions::INT as num_admissions \" \\\n",
    "                           \"FROM SNOWPARK_DEMO.ML.RAW_JSON_NHS, LATERAL FLATTEN( INPUT => raw_file:body )\")"
   ]
  },
  {
   "cell_type": "code",
   "execution_count": null,
   "id": "0cb1b793",
   "metadata": {},
   "outputs": [],
   "source": [
    "df_nhs_covid.show()"
   ]
  },
  {
   "attachments": {},
   "cell_type": "markdown",
   "id": "7f35b7fd",
   "metadata": {},
   "source": [
    "#### Data transformations"
   ]
  },
  {
   "cell_type": "code",
   "execution_count": null,
   "id": "50564a07",
   "metadata": {},
   "outputs": [],
   "source": [
    "df_nhs_covid_month = df_nhs_covid.withColumn('month_year', regexp_replace(substr(df_nhs_covid.DAY_DATE, 0, 7), '-', ''))\n",
    "df_nhs_covid_month = df_nhs_covid_month.dropna()\n",
    "df_nhs_covid_month = df_nhs_covid_month.withColumn('N_AREA_CODE', substr(df_nhs_covid.AREA_CODE, 2, length(df_nhs_covid.AREA_CODE)))"
   ]
  },
  {
   "cell_type": "code",
   "execution_count": null,
   "id": "0300244f",
   "metadata": {},
   "outputs": [],
   "source": [
    "df_nhs_covid_month.show()"
   ]
  },
  {
   "attachments": {},
   "cell_type": "markdown",
   "id": "7f35b7fd",
   "metadata": {},
   "source": [
    "##### Saving Dataframe as a new table within the Snowflake database"
   ]
  },
  {
   "cell_type": "code",
   "execution_count": null,
   "id": "18120b2f",
   "metadata": {},
   "outputs": [],
   "source": [
    "df_nhs_covid_month.write.mode('overwrite').save_as_table('NHS_COVID')"
   ]
  },
  {
   "cell_type": "code",
   "execution_count": null,
   "id": "36659694",
   "metadata": {},
   "outputs": [],
   "source": [
    "df_covid_nhs = session.read.table('NHS_COVID')\n",
    "df_nhs_covid_prep = df_covid_nhs.drop('AREA_CODE').withColumnRenamed('N_AREA_CODE', 'AREA_CODE').select('MONTH_YEAR','AREA_CODE', 'NUM_HOSPITAL_CASES', 'NUM_ADMISSIONS')\n",
    "df_nhs_covid_prep = df_nhs_covid_prep.groupBy(df_nhs_covid_prep.MONTH_YEAR, df_nhs_covid_prep.AREA_CODE).sum(df_nhs_covid_prep.NUM_HOSPITAL_CASES, df_nhs_covid_prep.NUM_ADMISSIONS) \\\n",
    "                                                                                                        .withColumnRenamed('SUM(NUM_ADMISSIONS)', 'NUM_ADMISSIONS') \\\n",
    "                                                                                                        .withColumnRenamed('SUM(NUM_HOSPITAL_CASES)', 'HOSPITAL_CASES')"
   ]
  },
  {
   "cell_type": "code",
   "execution_count": null,
   "id": "f31c41db",
   "metadata": {},
   "outputs": [],
   "source": [
    "df_nhs_covid_prep.show()"
   ]
  },
  {
   "attachments": {},
   "cell_type": "markdown",
   "id": "7f35b7fd",
   "metadata": {},
   "source": [
    "##### Saving Dataframe for the model training"
   ]
  },
  {
   "cell_type": "code",
   "execution_count": null,
   "id": "d211f82c",
   "metadata": {},
   "outputs": [],
   "source": [
    "df_nhs_covid_prep.write.mode('overwrite').save_as_table('NHS_COVID_PREP')"
   ]
  },
  {
   "attachments": {},
   "cell_type": "markdown",
   "id": "b1e2a08c",
   "metadata": {},
   "source": [
    "<img src=\"../img/pipeline22.png\"  width=\"900\" height=\"350\">"
   ]
  },
  {
   "attachments": {},
   "cell_type": "markdown",
   "id": "09ce32dd-7694-49bc-bd73-63da485b6f1b",
   "metadata": {},
   "source": [
    "## Exploratory Analysis"
   ]
  },
  {
   "cell_type": "code",
   "execution_count": null,
   "id": "06a2f846-97bb-40d6-a4bd-cf3013c46d19",
   "metadata": {},
   "outputs": [],
   "source": [
    "df_covid_nhs = session.read.table('NHS_COVID_PREP')"
   ]
  },
  {
   "cell_type": "code",
   "execution_count": null,
   "id": "9ca7c852-a471-4aef-800f-bc63650df4e2",
   "metadata": {},
   "outputs": [],
   "source": [
    "df_covid_nhs.describe().show()"
   ]
  },
  {
   "attachments": {},
   "cell_type": "markdown",
   "id": "54c43e4e",
   "metadata": {},
   "source": [
    "##### Boxplot view"
   ]
  },
  {
   "cell_type": "code",
   "execution_count": null,
   "id": "ce7e4ccb-01a3-4c49-b41d-23f6b4d58ecd",
   "metadata": {},
   "outputs": [],
   "source": [
    "df_covid_nhs.toPandas().boxplot(column=['HOSPITAL_CASES', 'NUM_ADMISSIONS'])"
   ]
  },
  {
   "attachments": {},
   "cell_type": "markdown",
   "id": "e3289733",
   "metadata": {},
   "source": [
    "##### Variable correlation and distribution"
   ]
  },
  {
   "cell_type": "code",
   "execution_count": null,
   "id": "62bf89d0",
   "metadata": {},
   "outputs": [],
   "source": [
    "scatter_matrix(df_covid_nhs.toPandas(), figsize=(7,7), diagonal='hist')"
   ]
  },
  {
   "attachments": {},
   "cell_type": "markdown",
   "id": "9650a205",
   "metadata": {},
   "source": [
    "##### Model training"
   ]
  },
  {
   "cell_type": "code",
   "execution_count": null,
   "id": "ef6b8b3c-3984-4a49-b6aa-b7ff9b2ad78a",
   "metadata": {},
   "outputs": [],
   "source": [
    "def save_file(session, model):\n",
    "    import joblib\n",
    "    import os\n",
    "    \n",
    "    model_output_dir = '/tmp'\n",
    "    model_file = os.path.join(model_output_dir, 'model.joblib')\n",
    "    joblib.dump(model, model_file)\n",
    "    session.file.put(model_file, '@MODELS', overwrite=True)"
   ]
  },
  {
   "cell_type": "code",
   "execution_count": null,
   "id": "ef5b9092",
   "metadata": {},
   "outputs": [],
   "source": [
    "def train_model(session: snowflake.snowpark.Session) -> Variant:\n",
    "\n",
    "    from sklearn.ensemble import RandomForestRegressor\n",
    "    from sklearn.model_selection import train_test_split\n",
    "    from sklearn.metrics import mean_squared_error\n",
    "    from sklearn.preprocessing import StandardScaler\n",
    "    from sklearn.impute import SimpleImputer\n",
    "    from sklearn.pipeline import Pipeline\n",
    "    from sklearn.compose import ColumnTransformer\n",
    "    \n",
    "    df_covid_nhs_pd = session.read.table('NHS_COVID_PREP').to_pandas()\n",
    "    \n",
    "    X = df_covid_nhs_pd.drop(\"HOSPITAL_CASES\", axis = 1)\n",
    "    Y = df_covid_nhs_pd[\"HOSPITAL_CASES\"]\n",
    "    \n",
    "    X_train, X_test, y_train, y_test = train_test_split(X,Y, test_size=0.15, random_state=42)\n",
    "\n",
    "\n",
    "    # FEATURE ENGINEERING\n",
    "    num_attribs = list(X)\n",
    "    \n",
    "    num_pipeline = Pipeline([\n",
    "        ('imputer', SimpleImputer(strategy=\"median\")),\n",
    "        ('std_scaler', StandardScaler())\n",
    "    ])\n",
    "    \n",
    "    preprocessor = ColumnTransformer([\n",
    "            (\"num\", num_pipeline, num_attribs)\n",
    "        ])\n",
    "\n",
    "    full_pipeline = Pipeline([\n",
    "            ('preprocessor', preprocessor),\n",
    "            ('model', RandomForestRegressor(n_estimators=9000, random_state=82, max_depth=100))\n",
    "        ])\n",
    "\n",
    "    # fit the preprocessing pipeline and the model together\n",
    "    full_pipeline.fit(X_train, y_train)\n",
    "    \n",
    "    save_file(session, full_pipeline)\n",
    "\n",
    "    predicted = full_pipeline.predict(X_test)\n",
    "    lin_mse = mean_squared_error(y_test, predicted)\n",
    "    lin_rmse=np.sqrt(lin_mse)\n",
    "\n",
    "    return lin_rmse\n"
   ]
  },
  {
   "attachments": {},
   "cell_type": "markdown",
   "id": "986a7634",
   "metadata": {},
   "source": [
    "##### Model Deployment"
   ]
  },
  {
   "attachments": {},
   "cell_type": "markdown",
   "id": "0785375d",
   "metadata": {},
   "source": [
    "<img src=\"../img/pipeline23.png\"  width=\"900\" height=\"350\">"
   ]
  },
  {
   "attachments": {},
   "cell_type": "markdown",
   "id": "aafdc57b",
   "metadata": {},
   "source": [
    "##### Register the training function as Store Procedure"
   ]
  },
  {
   "cell_type": "code",
   "execution_count": null,
   "id": "7df8b45f",
   "metadata": {},
   "outputs": [],
   "source": [
    "session.add_packages('snowflake-snowpark-python')\n",
    "session.sproc.register(func=train_model, name='train_model_sp', replace=True, packages=['snowflake-snowpark-python', 'scikit-learn', 'pandas', 'numpy', 'joblib', 'cachetools'])"
   ]
  },
  {
   "cell_type": "code",
   "execution_count": null,
   "id": "399e2e41",
   "metadata": {},
   "outputs": [],
   "source": [
    "print(session.call('train_model_sp'))"
   ]
  },
  {
   "cell_type": "code",
   "execution_count": null,
   "id": "d7341a7f",
   "metadata": {},
   "outputs": [],
   "source": [
    "@cachetools.cached(cache={})\n",
    "def read_file(filename):\n",
    "    import sys\n",
    "    import cachetools\n",
    "    import os\n",
    "    import joblib\n",
    "    \n",
    "    import_dir = sys._xoptions.get(\"snowflake_import_directory\")\n",
    "    \n",
    "    if import_dir:\n",
    "        with open(os.path.join(import_dir, filename), 'rb') as file:\n",
    "            m = joblib.load(file)\n",
    "            return m"
   ]
  },
  {
   "cell_type": "code",
   "execution_count": null,
   "id": "0aae08ee",
   "metadata": {},
   "outputs": [],
   "source": [
    "session.clear_imports()\n",
    "session.clear_packages()\n",
    "session.add_import('@MODELS/model.joblib.gz')\n",
    "\n",
    "@udf(name=\"predict_hospitals\", session=session, packages=['snowflake-snowpark-python', 'scikit-learn', 'pandas', 'numpy', 'joblib', 'cachetools'], is_permanent=True, stage_location=\"@MODELS\", replace=True)\n",
    "\n",
    "def predict_hospitals(fields:list) -> float:\n",
    "    import sys\n",
    "    import cachetools\n",
    "    import pandas as pd\n",
    "    from joblib import load\n",
    "    \n",
    "    features = ['MONTH_YEAR','AREA_CODE','NUM_ADMISSIONS']\n",
    "    \n",
    "    m = read_file('model.joblib.gz')\n",
    "    \n",
    "    #row = pd.DataFrame([locals()], columns=features)\n",
    "    row = pd.DataFrame([fields], columns=features)\n",
    "    return m.predict(row)[0]"
   ]
  },
  {
   "attachments": {},
   "cell_type": "markdown",
   "id": "663ebc9f",
   "metadata": {},
   "source": [
    "<img src=\"../img/pipeline5.png\">"
   ]
  },
  {
   "cell_type": "code",
   "execution_count": null,
   "id": "63544a87",
   "metadata": {},
   "outputs": [],
   "source": [
    "test_df = session.createDataFrame([[202210, 40000008, 100], [202211, 40000008, 150], [202212, 40000008, 80]], schema=['MONTH_YEAR','AREA_CODE','NUM_ADMISSIONS'])"
   ]
  },
  {
   "cell_type": "code",
   "execution_count": null,
   "id": "abc95615",
   "metadata": {},
   "outputs": [],
   "source": [
    "test_df.select('MONTH_YEAR','AREA_CODE','NUM_ADMISSIONS', call_udf('predict_hospitals', array_construct(col('MONTH_YEAR'), col('AREA_CODE'), col('NUM_ADMISSIONS'))).alias('PREDICTED_HOSPITAL_CASES')).show()"
   ]
  }
 ],
 "metadata": {
  "kernelspec": {
   "display_name": "Python 3.8.13 ('snowpark')",
   "language": "python",
   "name": "python3"
  },
  "language_info": {
   "codemirror_mode": {
    "name": "ipython",
    "version": 3
   },
   "file_extension": ".py",
   "mimetype": "text/x-python",
   "name": "python",
   "nbconvert_exporter": "python",
   "pygments_lexer": "ipython3",
   "version": "3.8.13 (default, Mar 28 2022, 06:16:26) \n[Clang 12.0.0 ]"
  },
  "vscode": {
   "interpreter": {
    "hash": "035551ea457cda2265b26459607d734713ff88ff590ba291035b967f311df0e0"
   }
  }
 },
 "nbformat": 4,
 "nbformat_minor": 5
}
